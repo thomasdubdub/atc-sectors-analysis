{
 "cells": [
  {
   "cell_type": "markdown",
   "metadata": {},
   "source": [
    "# Building of French ACC/UAC control sectors tables"
   ]
  },
  {
   "cell_type": "markdown",
   "metadata": {},
   "source": [
    "#### Air traffic control sectors data can be found on the [SIA website](https://www.sia.aviation-civile.gouv.fr) in the eAIP section (ENR 3.8)"
   ]
  },
  {
   "cell_type": "code",
   "execution_count": 1,
   "metadata": {},
   "outputs": [],
   "source": [
    "url = \"https://www.sia.aviation-civile.gouv.fr/dvd/eAIP_16_AUG_2018/FRANCE/AIRAC-2018-08-16/html/eAIP/FR-ENR-3.8-fr-FR.html#ENR-3.8\""
   ]
  },
  {
   "cell_type": "code",
   "execution_count": 2,
   "metadata": {},
   "outputs": [],
   "source": [
    "import requests\n",
    "from bs4 import BeautifulSoup\n",
    "soup = BeautifulSoup(requests.get(url).content, \"lxml\")\n",
    "list_tables = soup.find_all('table')"
   ]
  },
  {
   "cell_type": "markdown",
   "metadata": {},
   "source": [
    "##### Get the coordinates of airspace volumes (sixth table)"
   ]
  },
  {
   "cell_type": "code",
   "execution_count": 3,
   "metadata": {},
   "outputs": [],
   "source": [
    "import geopandas as gpd\n",
    "from shapely.geometry import Point, Polygon, MultiPolygon\n",
    "from shapely.ops import nearest_points\n",
    "from shapely.geometry import MultiPoint\n",
    "\n",
    "world = gpd.read_file(gpd.datasets.get_path('naturalearth_lowres'))\n",
    "france = world[world.name == \"France\"].copy()\n",
    "france.geometry = france.geometry.intersection(Polygon([(-10,41),(-10,52),(10,52),(10,41)]))\n",
    "poly = france.geometry.iloc[0][1]\n",
    "mp = MultiPoint(poly.exterior.coords)\n",
    "fr = list(mp.geoms)\n",
    "\n",
    "def get_points_between(before_point, after_point):\n",
    "    b_n = nearest_points(mp, before_point)[0]\n",
    "    a_n = nearest_points(mp, after_point)[0]\n",
    "    tlist = [point for point in fr \n",
    "             if min(fr.index(b_n), fr.index(a_n)) <= fr.index(point) <= max(fr.index(b_n), fr.index(a_n))]\n",
    "    clist = [point for point in fr if point not in tlist]\n",
    "    tlist = clist if len(tlist) > len(clist) else tlist\n",
    "    return tlist if fr.index(b_n) <= fr.index(a_n) else tlist[::-1]\n",
    "\n",
    "def lat_conv(slat):\n",
    "    val = round(float(slat[0:2]) + float(slat[3:5])/60 + float(slat[6:8])/3600, 3)\n",
    "    return val if slat[9] == 'N' else -val\n",
    "\n",
    "def lon_conv(slon):\n",
    "    val = round(float(slon[1:3]) + float(slon[4:6])/60 + float(slon[7:9])/3600, 3)\n",
    "    return val if slon[10] == 'E' else -val"
   ]
  },
  {
   "cell_type": "code",
   "execution_count": 4,
   "metadata": {},
   "outputs": [
    {
     "data": {
      "image/svg+xml": [
       "<svg xmlns=\"http://www.w3.org/2000/svg\" xmlns:xlink=\"http://www.w3.org/1999/xlink\" width=\"100.0\" height=\"100.0\" viewBox=\"1.7465600000000001 46.12156 1.8208799999999998 1.2598799999999954\" preserveAspectRatio=\"xMinYMin meet\"><g transform=\"matrix(1,0,0,-1,0,93.503)\"><path fill-rule=\"evenodd\" fill=\"#66cc99\" stroke=\"#555555\" stroke-width=\"0.036417599999999994\" opacity=\"0.6\" d=\"M 1.814,46.882 L 2.434,47.179 L 3.065,47.314 L 3.5,46.567 L 3.37,46.524 L 2.363,46.189 L 2.353,46.371 L 1.814,46.882 z\" /></g></svg>"
      ],
      "text/plain": [
       "<shapely.geometry.polygon.Polygon at 0x11bf83588>"
      ]
     },
     "execution_count": 4,
     "metadata": {},
     "output_type": "execute_result"
    }
   ],
   "source": [
    "from collections import defaultdict\n",
    "cdict = defaultdict(str)\n",
    "vol_es, es_acc, upper, lower = ({} for i in range(4))\n",
    "vol, es = ('', '')\n",
    "latest_lat, latest_long, current_lat = (0.0, 0.0, 0.0)\n",
    "boundary_required = False\n",
    "\n",
    "for tag in list_tables[5].find_all('span'):\n",
    "    if tag.has_attr('id'):\n",
    "        if 'NOM_USUEL' in tag['id']:\n",
    "            acc = tag.text\n",
    "        elif 'AIRSPACE.TXT_NAME' in tag['id']:\n",
    "            es = tag.text\n",
    "            es_acc[es] = acc\n",
    "            vol = es\n",
    "            vol_es[vol] = es\n",
    "        elif 'DIST_VER_UPPER' in tag['id']:\n",
    "            upper[vol] = tag.text\n",
    "        elif 'DIST_VER_LOWER' in tag['id']:\n",
    "            lower[vol] = tag.text\n",
    "        elif 'GEO_LAT' in tag['id']:\n",
    "            if tag.text[0].isdigit():\n",
    "                lat = lat_conv(tag.text)\n",
    "                if boundary_required:\n",
    "                    current_lat = lat\n",
    "                else:\n",
    "                    latest_lat = lat\n",
    "        elif 'GEO_LONG' in tag['id']:\n",
    "            if tag.text[0].isdigit():\n",
    "                lon = lon_conv(tag.text)\n",
    "                if boundary_required:\n",
    "                    ch = get_points_between(Point(latest_long, latest_lat), Point(lon, current_lat))\n",
    "                    for pt in ch:\n",
    "                        cdict[vol] += str(pt.y) + \";\" + str(pt.x) + \",\"\n",
    "                    cdict[vol] += str(current_lat) + \";\" + str(lon) + \",\"\n",
    "                    boundary_required = False\n",
    "                else:\n",
    "                    latest_long = lon\n",
    "                    cdict[vol] += str(latest_lat) + \";\" + str(lon) + \",\"\n",
    "        elif 'GEO_BORDER.NOM' in tag['id']:\n",
    "            boundary_required = True\n",
    "        elif 'AIRSPACE_BORDER.NOM_PARTIE' in tag['id']:\n",
    "            if (len(tag.text) == 1) and (tag.text[0].isdigit()):\n",
    "                vol_es.pop(vol)\n",
    "                vol += \" \" + tag.text[0]\n",
    "                vol_es[vol] = es\n",
    "    else: # second column\n",
    "        if (len(tag.text) == 1) and (tag.text[0].isdigit()):\n",
    "                vol_es.pop(vol)\n",
    "                vol += \" \" + tag.text[0]\n",
    "                vol_es[vol] = es\n",
    "\n",
    "fdict = defaultdict(list)\n",
    "for key, value in cdict.items():\n",
    "    for couple in value.split(\",\"):\n",
    "        if len(couple) > 0:\n",
    "            fdict[key].append((float(couple.split(\";\")[1]), float(couple.split(\";\")[0])))\n",
    "city_acc_map = {'BORDEAUX':'LFBB', 'BREST':'LFRR', 'MARSEILLE':'LFMM', 'PARIS':'LFFF', 'REIMS':'LFEE'}\n",
    "es_acc = {key: city_acc_map[value] for key,value in es_acc.items()}\n",
    "fdict = {key: Polygon(value) for key, value in fdict.items()}\n",
    "fdict['P1 1']"
   ]
  },
  {
   "cell_type": "markdown",
   "metadata": {},
   "source": [
    "##### Building the GeoDataFrame"
   ]
  },
  {
   "cell_type": "code",
   "execution_count": 5,
   "metadata": {},
   "outputs": [],
   "source": [
    "import pandas as pd\n",
    "df_v = pd.DataFrame({'volume': [*fdict]}, dtype=str)\n",
    "df_v['elementary_sector'] = df_v['volume'].map(vol_es)\n",
    "df_v['acc'] = df_v['elementary_sector'].map(es_acc)\n",
    "df_v['level_min'] = df_v['volume'].map(lower)\n",
    "df_v['level_max'] = df_v['volume'].map(upper)\n",
    "df_v['geometry'] = df_v['volume'].map(fdict)\n",
    "f = lambda x: 0 if x == 'SFC' else 999 if x == 'UNL' else int(x[3:]) # to be modified with real SFC/UNL values\n",
    "df_v[['level_min','level_max']] = df_v[['level_min','level_max']].applymap(f)\n",
    "gdf_es = gpd.GeoDataFrame(df_v, geometry='geometry')\n",
    "gdf_es.to_file('volumes.geojson', driver='GeoJSON')"
   ]
  },
  {
   "cell_type": "markdown",
   "metadata": {},
   "source": [
    "##### Get the composition of collapse sectors (five first tables)"
   ]
  },
  {
   "cell_type": "code",
   "execution_count": 6,
   "metadata": {},
   "outputs": [],
   "source": [
    "def table_to_df(table, name):\n",
    "    vol_dict = defaultdict(list)\n",
    "    es_dict = defaultdict(set)\n",
    "    cs = \"\"\n",
    "    for tag in table.find_all('span'):\n",
    "        if tag.has_attr('class'):\n",
    "            cs = tag.text\n",
    "        else:\n",
    "            vol_dict[cs].append(tag.text)\n",
    "            es_dict[cs].add(vol_es[tag.text])\n",
    "    es_dict = {key: list(value) for key, value in es_dict.items()}\n",
    "    cs = [*vol_dict]\n",
    "    df = pd.DataFrame({'control_sector': cs, 'acc':[name for i in range(len(cs))]})\n",
    "    df['volumes'] = df['control_sector'].map(vol_dict)\n",
    "    df['elementary_sectors'] = df['control_sector'].map(es_dict)\n",
    "    return df"
   ]
  },
  {
   "cell_type": "markdown",
   "metadata": {},
   "source": [
    "##### Building the control sectors dataframe"
   ]
  },
  {
   "cell_type": "code",
   "execution_count": 7,
   "metadata": {},
   "outputs": [
    {
     "data": {
      "text/html": [
       "<div>\n",
       "<style scoped>\n",
       "    .dataframe tbody tr th:only-of-type {\n",
       "        vertical-align: middle;\n",
       "    }\n",
       "\n",
       "    .dataframe tbody tr th {\n",
       "        vertical-align: top;\n",
       "    }\n",
       "\n",
       "    .dataframe thead th {\n",
       "        text-align: right;\n",
       "    }\n",
       "</style>\n",
       "<table border=\"1\" class=\"dataframe\">\n",
       "  <thead>\n",
       "    <tr style=\"text-align: right;\">\n",
       "      <th></th>\n",
       "      <th>acc</th>\n",
       "      <th>control_sector</th>\n",
       "      <th>volumes</th>\n",
       "      <th>elementary_sectors</th>\n",
       "    </tr>\n",
       "  </thead>\n",
       "  <tbody>\n",
       "    <tr>\n",
       "      <th>68</th>\n",
       "      <td>LFRR</td>\n",
       "      <td>VKWS</td>\n",
       "      <td>[VS, KS, WS 1, WS 2, WS 3, WS 4, WS 5]</td>\n",
       "      <td>[WS, VS, KS]</td>\n",
       "    </tr>\n",
       "    <tr>\n",
       "      <th>87</th>\n",
       "      <td>LFMM</td>\n",
       "      <td>SBAM</td>\n",
       "      <td>[ST 1, ST 2, BT 1, BT 2, AJ 1, AJ 2, MN 1, MN 2]</td>\n",
       "      <td>[AJ, BT, MN, ST]</td>\n",
       "    </tr>\n",
       "    <tr>\n",
       "      <th>82</th>\n",
       "      <td>LFMM</td>\n",
       "      <td>RAW</td>\n",
       "      <td>[MO, ML 1, ML 2, LE1 1, LE1 2, LE2, LO 1, LO 2...</td>\n",
       "      <td>[F4, LE2, DL, M1, M2, ML, M3, LE1, W1, LO, F1,...</td>\n",
       "    </tr>\n",
       "  </tbody>\n",
       "</table>\n",
       "</div>"
      ],
      "text/plain": [
       "     acc control_sector                                            volumes  \\\n",
       "68  LFRR           VKWS             [VS, KS, WS 1, WS 2, WS 3, WS 4, WS 5]   \n",
       "87  LFMM           SBAM   [ST 1, ST 2, BT 1, BT 2, AJ 1, AJ 2, MN 1, MN 2]   \n",
       "82  LFMM            RAW  [MO, ML 1, ML 2, LE1 1, LE1 2, LE2, LO 1, LO 2...   \n",
       "\n",
       "                                   elementary_sectors  \n",
       "68                                       [WS, VS, KS]  \n",
       "87                                   [AJ, BT, MN, ST]  \n",
       "82  [F4, LE2, DL, M1, M2, ML, M3, LE1, W1, LO, F1,...  "
      ]
     },
     "execution_count": 7,
     "metadata": {},
     "output_type": "execute_result"
    }
   ],
   "source": [
    "list_acc = ['LFBB', 'LFRR', 'LFMM', 'LFFF', 'LFEE']\n",
    "lfbb, lfrr, lfmm, lfff, lfee = (table_to_df(list_tables[i], list_acc[i]) for i in range(5))\n",
    "acc = pd.concat([lfbb, lfrr, lfmm, lfff, lfee])\n",
    "acc.sample(3)"
   ]
  },
  {
   "cell_type": "code",
   "execution_count": 8,
   "metadata": {},
   "outputs": [],
   "source": [
    "acc.to_csv('sectors.csv', index=False)"
   ]
  }
 ],
 "metadata": {
  "kernelspec": {
   "display_name": "Python [default]",
   "language": "python",
   "name": "python3"
  },
  "language_info": {
   "codemirror_mode": {
    "name": "ipython",
    "version": 3
   },
   "file_extension": ".py",
   "mimetype": "text/x-python",
   "name": "python",
   "nbconvert_exporter": "python",
   "pygments_lexer": "ipython3",
   "version": "3.6.6"
  }
 },
 "nbformat": 4,
 "nbformat_minor": 2
}
