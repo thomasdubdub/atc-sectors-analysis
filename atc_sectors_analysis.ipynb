{
 "cells": [
  {
   "cell_type": "markdown",
   "metadata": {},
   "source": [
    "# Analysis of French ACC/UAC control sectors"
   ]
  },
  {
   "cell_type": "markdown",
   "metadata": {},
   "source": [
    "#### Analysis of Air Traffic Control en-route sectors of Metropolitan France"
   ]
  },
  {
   "cell_type": "markdown",
   "metadata": {},
   "source": [
    "##### *Refer to tables_building.ipynb to generate sectors and volumes files (sectors.csv and volumes.geojson)*"
   ]
  },
  {
   "cell_type": "markdown",
   "metadata": {},
   "source": [
    "#### <br> Load tables"
   ]
  },
  {
   "cell_type": "code",
   "execution_count": 1,
   "metadata": {},
   "outputs": [
    {
     "data": {
      "text/html": [
       "<div>\n",
       "<style scoped>\n",
       "    .dataframe tbody tr th:only-of-type {\n",
       "        vertical-align: middle;\n",
       "    }\n",
       "\n",
       "    .dataframe tbody tr th {\n",
       "        vertical-align: top;\n",
       "    }\n",
       "\n",
       "    .dataframe thead th {\n",
       "        text-align: right;\n",
       "    }\n",
       "</style>\n",
       "<table border=\"1\" class=\"dataframe\">\n",
       "  <thead>\n",
       "    <tr style=\"text-align: right;\">\n",
       "      <th></th>\n",
       "      <th>acc</th>\n",
       "      <th>control_sector</th>\n",
       "      <th>volumes</th>\n",
       "      <th>elementary_sectors</th>\n",
       "    </tr>\n",
       "  </thead>\n",
       "  <tbody>\n",
       "    <tr>\n",
       "      <th>72</th>\n",
       "      <td>LFRR</td>\n",
       "      <td>GAIU</td>\n",
       "      <td>['GI', 'GU', 'AI', 'AU']</td>\n",
       "      <td>['GU', 'AI', 'GI', 'AU']</td>\n",
       "    </tr>\n",
       "    <tr>\n",
       "      <th>270</th>\n",
       "      <td>LFFF</td>\n",
       "      <td>TENB</td>\n",
       "      <td>['TB 1', 'TB 2', 'TE 1', 'TE 2', 'TN 1', 'TN 2']</td>\n",
       "      <td>['TN', 'TB', 'TE']</td>\n",
       "    </tr>\n",
       "    <tr>\n",
       "      <th>136</th>\n",
       "      <td>LFRR</td>\n",
       "      <td>ZSI</td>\n",
       "      <td>['ZI', 'ZS']</td>\n",
       "      <td>['ZI', 'ZS']</td>\n",
       "    </tr>\n",
       "    <tr>\n",
       "      <th>163</th>\n",
       "      <td>LFMM</td>\n",
       "      <td>DZH</td>\n",
       "      <td>['DH', 'ZH']</td>\n",
       "      <td>['DH', 'ZH']</td>\n",
       "    </tr>\n",
       "  </tbody>\n",
       "</table>\n",
       "</div>"
      ],
      "text/plain": [
       "      acc control_sector                                           volumes  \\\n",
       "72   LFRR           GAIU                          ['GI', 'GU', 'AI', 'AU']   \n",
       "270  LFFF           TENB  ['TB 1', 'TB 2', 'TE 1', 'TE 2', 'TN 1', 'TN 2']   \n",
       "136  LFRR            ZSI                                      ['ZI', 'ZS']   \n",
       "163  LFMM            DZH                                      ['DH', 'ZH']   \n",
       "\n",
       "           elementary_sectors  \n",
       "72   ['GU', 'AI', 'GI', 'AU']  \n",
       "270        ['TN', 'TB', 'TE']  \n",
       "136              ['ZI', 'ZS']  \n",
       "163              ['DH', 'ZH']  "
      ]
     },
     "execution_count": 1,
     "metadata": {},
     "output_type": "execute_result"
    }
   ],
   "source": [
    "import pandas as pd\n",
    "df = pd.read_csv('sectors.csv')\n",
    "df.sample(4)"
   ]
  },
  {
   "cell_type": "code",
   "execution_count": 2,
   "metadata": {},
   "outputs": [
    {
     "data": {
      "text/html": [
       "<div>\n",
       "<style scoped>\n",
       "    .dataframe tbody tr th:only-of-type {\n",
       "        vertical-align: middle;\n",
       "    }\n",
       "\n",
       "    .dataframe tbody tr th {\n",
       "        vertical-align: top;\n",
       "    }\n",
       "\n",
       "    .dataframe thead th {\n",
       "        text-align: right;\n",
       "    }\n",
       "</style>\n",
       "<table border=\"1\" class=\"dataframe\">\n",
       "  <thead>\n",
       "    <tr style=\"text-align: right;\">\n",
       "      <th></th>\n",
       "      <th>volume</th>\n",
       "      <th>elementary_sector</th>\n",
       "      <th>acc</th>\n",
       "      <th>level_min</th>\n",
       "      <th>level_max</th>\n",
       "      <th>geometry</th>\n",
       "    </tr>\n",
       "  </thead>\n",
       "  <tbody>\n",
       "    <tr>\n",
       "      <th>10</th>\n",
       "      <td>LM</td>\n",
       "      <td>LM</td>\n",
       "      <td>LFBB</td>\n",
       "      <td>0</td>\n",
       "      <td>195</td>\n",
       "      <td>POLYGON ((-0.25 47.167, 0.261 47.167, 1.467 47...</td>\n",
       "    </tr>\n",
       "    <tr>\n",
       "      <th>34</th>\n",
       "      <td>X4</td>\n",
       "      <td>X4</td>\n",
       "      <td>LFBB</td>\n",
       "      <td>365</td>\n",
       "      <td>999</td>\n",
       "      <td>POLYGON ((0.657 45.032, 1.098 45.193, 2.281 44...</td>\n",
       "    </tr>\n",
       "    <tr>\n",
       "      <th>200</th>\n",
       "      <td>HR</td>\n",
       "      <td>HR</td>\n",
       "      <td>LFEE</td>\n",
       "      <td>375</td>\n",
       "      <td>999</td>\n",
       "      <td>POLYGON ((3.61 50.495, 3.588184441755715 50.37...</td>\n",
       "    </tr>\n",
       "    <tr>\n",
       "      <th>5</th>\n",
       "      <td>L1</td>\n",
       "      <td>L1</td>\n",
       "      <td>LFBB</td>\n",
       "      <td>195</td>\n",
       "      <td>295</td>\n",
       "      <td>POLYGON ((1.467 47.167, 1.814 46.882, 2.353 46...</td>\n",
       "    </tr>\n",
       "  </tbody>\n",
       "</table>\n",
       "</div>"
      ],
      "text/plain": [
       "    volume elementary_sector   acc  level_min  level_max  \\\n",
       "10      LM                LM  LFBB          0        195   \n",
       "34      X4                X4  LFBB        365        999   \n",
       "200     HR                HR  LFEE        375        999   \n",
       "5       L1                L1  LFBB        195        295   \n",
       "\n",
       "                                              geometry  \n",
       "10   POLYGON ((-0.25 47.167, 0.261 47.167, 1.467 47...  \n",
       "34   POLYGON ((0.657 45.032, 1.098 45.193, 2.281 44...  \n",
       "200  POLYGON ((3.61 50.495, 3.588184441755715 50.37...  \n",
       "5    POLYGON ((1.467 47.167, 1.814 46.882, 2.353 46...  "
      ]
     },
     "execution_count": 2,
     "metadata": {},
     "output_type": "execute_result"
    }
   ],
   "source": [
    "import geopandas as gpd\n",
    "import numpy as np\n",
    "gdf = gpd.read_file('volumes.geojson')\n",
    "gdf.sample(4)"
   ]
  },
  {
   "cell_type": "code",
   "execution_count": 4,
   "metadata": {},
   "outputs": [
    {
     "data": {
      "text/plain": [
       "<matplotlib.axes._subplots.AxesSubplot at 0x11ac8acc0>"
      ]
     },
     "execution_count": 4,
     "metadata": {},
     "output_type": "execute_result"
    },
    {
     "data": {
      "image/png": "[encoded data removed]",
      "text/plain": [
       "<matplotlib.figure.Figure at 0x11ac8a5c0>"
      ]
     },
     "metadata": {},
     "output_type": "display_data"
    }
   ],
   "source": [
    "gdf.query('volume==\"KD 3\"').plot()"
   ]
  },
  {
   "cell_type": "markdown",
   "metadata": {},
   "source": [
    "#### <br> Number of Area Control Centers (ACC), sectors and airspace volumes"
   ]
  },
  {
   "cell_type": "code",
   "execution_count": 46,
   "metadata": {},
   "outputs": [
    {
     "name": "stdout",
     "output_type": "stream",
     "text": [
      "Number of ACCs over Metropolitan France: 5\n",
      "Number of control sectors over Metropolitan France: 333\n",
      "Number of elementary sectors over Metropolitan France: 168\n",
      "Number of airspace volumes over Metropolitan France: 224\n"
     ]
    }
   ],
   "source": [
    "print('Number of ACCs over Metropolitan France: {}'.format(gdf['acc'].nunique()))\n",
    "print('Number of control sectors over Metropolitan France: {}'.format(df['control_sector'].nunique()))\n",
    "print('Number of elementary sectors over Metropolitan France: {}'.format(gdf['elementary_sector'].nunique()))\n",
    "print('Number of airspace volumes over Metropolitan France: {}'.format(gdf['volume'].count()))"
   ]
  },
  {
   "cell_type": "markdown",
   "metadata": {},
   "source": [
    "#### <br> Number of volumes and sectors per ACC"
   ]
  },
  {
   "cell_type": "code",
   "execution_count": 71,
   "metadata": {},
   "outputs": [
    {
     "data": {
      "text/html": [
       "<div>\n",
       "<style scoped>\n",
       "    .dataframe tbody tr th:only-of-type {\n",
       "        vertical-align: middle;\n",
       "    }\n",
       "\n",
       "    .dataframe tbody tr th {\n",
       "        vertical-align: top;\n",
       "    }\n",
       "\n",
       "    .dataframe thead th {\n",
       "        text-align: right;\n",
       "    }\n",
       "</style>\n",
       "<table border=\"1\" class=\"dataframe\">\n",
       "  <thead>\n",
       "    <tr style=\"text-align: right;\">\n",
       "      <th></th>\n",
       "      <th>nb_volumes</th>\n",
       "      <th>nb_elementary_sectors</th>\n",
       "      <th>nb_control_sectors</th>\n",
       "      <th>total_sectors</th>\n",
       "    </tr>\n",
       "  </thead>\n",
       "  <tbody>\n",
       "    <tr>\n",
       "      <th>LFFF</th>\n",
       "      <td>54</td>\n",
       "      <td>29</td>\n",
       "      <td>38</td>\n",
       "      <td>67</td>\n",
       "    </tr>\n",
       "    <tr>\n",
       "      <th>LFEE</th>\n",
       "      <td>30</td>\n",
       "      <td>23</td>\n",
       "      <td>52</td>\n",
       "      <td>75</td>\n",
       "    </tr>\n",
       "    <tr>\n",
       "      <th>LFBB</th>\n",
       "      <td>39</td>\n",
       "      <td>38</td>\n",
       "      <td>58</td>\n",
       "      <td>96</td>\n",
       "    </tr>\n",
       "    <tr>\n",
       "      <th>LFRR</th>\n",
       "      <td>42</td>\n",
       "      <td>31</td>\n",
       "      <td>84</td>\n",
       "      <td>115</td>\n",
       "    </tr>\n",
       "    <tr>\n",
       "      <th>LFMM</th>\n",
       "      <td>59</td>\n",
       "      <td>47</td>\n",
       "      <td>101</td>\n",
       "      <td>148</td>\n",
       "    </tr>\n",
       "  </tbody>\n",
       "</table>\n",
       "</div>"
      ],
      "text/plain": [
       "      nb_volumes  nb_elementary_sectors  nb_control_sectors  total_sectors\n",
       "LFFF          54                     29                  38             67\n",
       "LFEE          30                     23                  52             75\n",
       "LFBB          39                     38                  58             96\n",
       "LFRR          42                     31                  84            115\n",
       "LFMM          59                     47                 101            148"
      ]
     },
     "execution_count": 71,
     "metadata": {},
     "output_type": "execute_result"
    }
   ],
   "source": [
    "s_cs = df['acc'].value_counts()\n",
    "s_vol = gdf['acc'].value_counts()\n",
    "s_es = gdf.groupby('acc')['elementary_sector'].nunique()\n",
    "df_s = pd.concat([s_vol.rename('nb_volumes'), s_es.rename('nb_elementary_sectors'), s_cs.rename('nb_control_sectors')], axis=1)\n",
    "df_s['total_sectors'] = df_s['nb_elementary_sectors'] + df_s['nb_control_sectors']\n",
    "df_s.sort_values(['total_sectors'])"
   ]
  },
  {
   "cell_type": "markdown",
   "metadata": {},
   "source": [
    "#### <br> Smallest and largest airspace volumes (horizontal surface) and elementary sectors"
   ]
  },
  {
   "cell_type": "markdown",
   "metadata": {},
   "source": [
    "##### Largest and smallest volumes"
   ]
  },
  {
   "cell_type": "code",
   "execution_count": 68,
   "metadata": {},
   "outputs": [
    {
     "data": {
      "text/html": [
       "<div>\n",
       "<style scoped>\n",
       "    .dataframe tbody tr th:only-of-type {\n",
       "        vertical-align: middle;\n",
       "    }\n",
       "\n",
       "    .dataframe tbody tr th {\n",
       "        vertical-align: top;\n",
       "    }\n",
       "\n",
       "    .dataframe thead th {\n",
       "        text-align: right;\n",
       "    }\n",
       "</style>\n",
       "<table border=\"1\" class=\"dataframe\">\n",
       "  <thead>\n",
       "    <tr style=\"text-align: right;\">\n",
       "      <th></th>\n",
       "      <th>volume</th>\n",
       "      <th>elementary_sector</th>\n",
       "      <th>acc</th>\n",
       "      <th>level_min</th>\n",
       "      <th>level_max</th>\n",
       "      <th>geometry</th>\n",
       "      <th>surface</th>\n",
       "    </tr>\n",
       "  </thead>\n",
       "  <tbody>\n",
       "    <tr>\n",
       "      <th>43</th>\n",
       "      <td>AU</td>\n",
       "      <td>AU</td>\n",
       "      <td>LFRR</td>\n",
       "      <td>365</td>\n",
       "      <td>999</td>\n",
       "      <td>POLYGON ((-8.75 47.25, -8 47.25, -5.5 47.25, -...</td>\n",
       "      <td>12.835058</td>\n",
       "    </tr>\n",
       "    <tr>\n",
       "      <th>42</th>\n",
       "      <td>AS 3</td>\n",
       "      <td>AS</td>\n",
       "      <td>LFRR</td>\n",
       "      <td>195</td>\n",
       "      <td>345</td>\n",
       "      <td>POLYGON ((-8.75 47.25, -8 47.25, -5.5 47.25, -...</td>\n",
       "      <td>12.835058</td>\n",
       "    </tr>\n",
       "    <tr>\n",
       "      <th>39</th>\n",
       "      <td>AI</td>\n",
       "      <td>AI</td>\n",
       "      <td>LFRR</td>\n",
       "      <td>345</td>\n",
       "      <td>365</td>\n",
       "      <td>POLYGON ((-8.75 47.25, -8 47.25, -5.5 47.25, -...</td>\n",
       "      <td>12.835058</td>\n",
       "    </tr>\n",
       "    <tr>\n",
       "      <th>41</th>\n",
       "      <td>AS 2</td>\n",
       "      <td>AS</td>\n",
       "      <td>LFRR</td>\n",
       "      <td>55</td>\n",
       "      <td>195</td>\n",
       "      <td>POLYGON ((-8.75 47.25, -8 47.25, -5.5 47.25, -...</td>\n",
       "      <td>12.835058</td>\n",
       "    </tr>\n",
       "  </tbody>\n",
       "</table>\n",
       "</div>"
      ],
      "text/plain": [
       "   volume elementary_sector   acc  level_min  level_max  \\\n",
       "43     AU                AU  LFRR        365        999   \n",
       "42   AS 3                AS  LFRR        195        345   \n",
       "39     AI                AI  LFRR        345        365   \n",
       "41   AS 2                AS  LFRR         55        195   \n",
       "\n",
       "                                             geometry    surface  \n",
       "43  POLYGON ((-8.75 47.25, -8 47.25, -5.5 47.25, -...  12.835058  \n",
       "42  POLYGON ((-8.75 47.25, -8 47.25, -5.5 47.25, -...  12.835058  \n",
       "39  POLYGON ((-8.75 47.25, -8 47.25, -5.5 47.25, -...  12.835058  \n",
       "41  POLYGON ((-8.75 47.25, -8 47.25, -5.5 47.25, -...  12.835058  "
      ]
     },
     "execution_count": 68,
     "metadata": {},
     "output_type": "execute_result"
    }
   ],
   "source": [
    "gdf[\"surface\"] = gdf['geometry'].area\n",
    "gdf.sort_values(['surface'], ascending=False, inplace=True)\n",
    "gdf.head(4)"
   ]
  },
  {
   "cell_type": "code",
   "execution_count": 69,
   "metadata": {},
   "outputs": [
    {
     "data": {
      "text/html": [
       "<div>\n",
       "<style scoped>\n",
       "    .dataframe tbody tr th:only-of-type {\n",
       "        vertical-align: middle;\n",
       "    }\n",
       "\n",
       "    .dataframe tbody tr th {\n",
       "        vertical-align: top;\n",
       "    }\n",
       "\n",
       "    .dataframe thead th {\n",
       "        text-align: right;\n",
       "    }\n",
       "</style>\n",
       "<table border=\"1\" class=\"dataframe\">\n",
       "  <thead>\n",
       "    <tr style=\"text-align: right;\">\n",
       "      <th></th>\n",
       "      <th>volume</th>\n",
       "      <th>elementary_sector</th>\n",
       "      <th>acc</th>\n",
       "      <th>level_min</th>\n",
       "      <th>level_max</th>\n",
       "      <th>geometry</th>\n",
       "      <th>surface</th>\n",
       "    </tr>\n",
       "  </thead>\n",
       "  <tbody>\n",
       "    <tr>\n",
       "      <th>183</th>\n",
       "      <td>UK 1</td>\n",
       "      <td>UK</td>\n",
       "      <td>LFFF</td>\n",
       "      <td>195</td>\n",
       "      <td>245</td>\n",
       "      <td>POLYGON ((-0.25 50, 0.444 50.274, 0.833 49.937...</td>\n",
       "      <td>0.426362</td>\n",
       "    </tr>\n",
       "    <tr>\n",
       "      <th>178</th>\n",
       "      <td>TP 3</td>\n",
       "      <td>TP</td>\n",
       "      <td>LFFF</td>\n",
       "      <td>245</td>\n",
       "      <td>265</td>\n",
       "      <td>POLYGON ((0.444 50.274, 0.821 50.421, 1.388 49...</td>\n",
       "      <td>0.325937</td>\n",
       "    </tr>\n",
       "    <tr>\n",
       "      <th>151</th>\n",
       "      <td>DO 3</td>\n",
       "      <td>DO</td>\n",
       "      <td>LFFF</td>\n",
       "      <td>0</td>\n",
       "      <td>125</td>\n",
       "      <td>POLYGON ((1.875 48.502, 2.92 48.502, 2.793 48....</td>\n",
       "      <td>0.212400</td>\n",
       "    </tr>\n",
       "    <tr>\n",
       "      <th>194</th>\n",
       "      <td>E 1</td>\n",
       "      <td>E</td>\n",
       "      <td>LFEE</td>\n",
       "      <td>125</td>\n",
       "      <td>145</td>\n",
       "      <td>POLYGON ((6.212 49.507, 6.186320428094206 49.4...</td>\n",
       "      <td>0.026361</td>\n",
       "    </tr>\n",
       "  </tbody>\n",
       "</table>\n",
       "</div>"
      ],
      "text/plain": [
       "    volume elementary_sector   acc  level_min  level_max  \\\n",
       "183   UK 1                UK  LFFF        195        245   \n",
       "178   TP 3                TP  LFFF        245        265   \n",
       "151   DO 3                DO  LFFF          0        125   \n",
       "194    E 1                 E  LFEE        125        145   \n",
       "\n",
       "                                              geometry   surface  \n",
       "183  POLYGON ((-0.25 50, 0.444 50.274, 0.833 49.937...  0.426362  \n",
       "178  POLYGON ((0.444 50.274, 0.821 50.421, 1.388 49...  0.325937  \n",
       "151  POLYGON ((1.875 48.502, 2.92 48.502, 2.793 48....  0.212400  \n",
       "194  POLYGON ((6.212 49.507, 6.186320428094206 49.4...  0.026361  "
      ]
     },
     "execution_count": 69,
     "metadata": {},
     "output_type": "execute_result"
    }
   ],
   "source": [
    "gdf.tail(4)"
   ]
  },
  {
   "cell_type": "markdown",
   "metadata": {},
   "source": [
    "##### Largest and smallest elementary sectors"
   ]
  },
  {
   "cell_type": "code",
   "execution_count": 56,
   "metadata": {},
   "outputs": [
    {
     "data": {
      "text/html": [
       "<div>\n",
       "<style scoped>\n",
       "    .dataframe tbody tr th:only-of-type {\n",
       "        vertical-align: middle;\n",
       "    }\n",
       "\n",
       "    .dataframe tbody tr th {\n",
       "        vertical-align: top;\n",
       "    }\n",
       "\n",
       "    .dataframe thead th {\n",
       "        text-align: right;\n",
       "    }\n",
       "</style>\n",
       "<table border=\"1\" class=\"dataframe\">\n",
       "  <thead>\n",
       "    <tr style=\"text-align: right;\">\n",
       "      <th></th>\n",
       "      <th>volume</th>\n",
       "      <th>acc</th>\n",
       "      <th>level_min</th>\n",
       "      <th>level_max</th>\n",
       "      <th>surface</th>\n",
       "    </tr>\n",
       "    <tr>\n",
       "      <th>elementary_sector</th>\n",
       "      <th></th>\n",
       "      <th></th>\n",
       "      <th></th>\n",
       "      <th></th>\n",
       "      <th></th>\n",
       "    </tr>\n",
       "  </thead>\n",
       "  <tbody>\n",
       "    <tr>\n",
       "      <th>AI</th>\n",
       "      <td>AI</td>\n",
       "      <td>LFRR</td>\n",
       "      <td>345</td>\n",
       "      <td>365</td>\n",
       "      <td>12.835058</td>\n",
       "    </tr>\n",
       "    <tr>\n",
       "      <th>AS</th>\n",
       "      <td>AS 3</td>\n",
       "      <td>LFRR</td>\n",
       "      <td>195</td>\n",
       "      <td>345</td>\n",
       "      <td>12.835058</td>\n",
       "    </tr>\n",
       "    <tr>\n",
       "      <th>AU</th>\n",
       "      <td>AU</td>\n",
       "      <td>LFRR</td>\n",
       "      <td>365</td>\n",
       "      <td>999</td>\n",
       "      <td>12.835058</td>\n",
       "    </tr>\n",
       "    <tr>\n",
       "      <th>ID</th>\n",
       "      <td>ID 2</td>\n",
       "      <td>LFRR</td>\n",
       "      <td>195</td>\n",
       "      <td>255</td>\n",
       "      <td>9.885116</td>\n",
       "    </tr>\n",
       "  </tbody>\n",
       "</table>\n",
       "</div>"
      ],
      "text/plain": [
       "                  volume   acc  level_min  level_max    surface\n",
       "elementary_sector                                              \n",
       "AI                    AI  LFRR        345        365  12.835058\n",
       "AS                  AS 3  LFRR        195        345  12.835058\n",
       "AU                    AU  LFRR        365        999  12.835058\n",
       "ID                  ID 2  LFRR        195        255   9.885116"
      ]
     },
     "execution_count": 56,
     "metadata": {},
     "output_type": "execute_result"
    }
   ],
   "source": [
    "gdf.groupby('elementary_sector').max().nlargest(4, 'surface')"
   ]
  },
  {
   "cell_type": "code",
   "execution_count": 57,
   "metadata": {},
   "outputs": [
    {
     "data": {
      "text/html": [
       "<div>\n",
       "<style scoped>\n",
       "    .dataframe tbody tr th:only-of-type {\n",
       "        vertical-align: middle;\n",
       "    }\n",
       "\n",
       "    .dataframe tbody tr th {\n",
       "        vertical-align: top;\n",
       "    }\n",
       "\n",
       "    .dataframe thead th {\n",
       "        text-align: right;\n",
       "    }\n",
       "</style>\n",
       "<table border=\"1\" class=\"dataframe\">\n",
       "  <thead>\n",
       "    <tr style=\"text-align: right;\">\n",
       "      <th></th>\n",
       "      <th>volume</th>\n",
       "      <th>acc</th>\n",
       "      <th>level_min</th>\n",
       "      <th>level_max</th>\n",
       "      <th>surface</th>\n",
       "    </tr>\n",
       "    <tr>\n",
       "      <th>elementary_sector</th>\n",
       "      <th></th>\n",
       "      <th></th>\n",
       "      <th></th>\n",
       "      <th></th>\n",
       "      <th></th>\n",
       "    </tr>\n",
       "  </thead>\n",
       "  <tbody>\n",
       "    <tr>\n",
       "      <th>DS</th>\n",
       "      <td>DS</td>\n",
       "      <td>LFFF</td>\n",
       "      <td>0</td>\n",
       "      <td>175</td>\n",
       "      <td>0.770265</td>\n",
       "    </tr>\n",
       "    <tr>\n",
       "      <th>QI</th>\n",
       "      <td>QI</td>\n",
       "      <td>LFRR</td>\n",
       "      <td>345</td>\n",
       "      <td>365</td>\n",
       "      <td>0.804880</td>\n",
       "    </tr>\n",
       "    <tr>\n",
       "      <th>QS</th>\n",
       "      <td>QS</td>\n",
       "      <td>LFRR</td>\n",
       "      <td>295</td>\n",
       "      <td>345</td>\n",
       "      <td>0.804880</td>\n",
       "    </tr>\n",
       "    <tr>\n",
       "      <th>QU</th>\n",
       "      <td>QU</td>\n",
       "      <td>LFRR</td>\n",
       "      <td>365</td>\n",
       "      <td>999</td>\n",
       "      <td>0.804880</td>\n",
       "    </tr>\n",
       "  </tbody>\n",
       "</table>\n",
       "</div>"
      ],
      "text/plain": [
       "                  volume   acc  level_min  level_max   surface\n",
       "elementary_sector                                             \n",
       "DS                    DS  LFFF          0        175  0.770265\n",
       "QI                    QI  LFRR        345        365  0.804880\n",
       "QS                    QS  LFRR        295        345  0.804880\n",
       "QU                    QU  LFRR        365        999  0.804880"
      ]
     },
     "execution_count": 57,
     "metadata": {},
     "output_type": "execute_result"
    }
   ],
   "source": [
    "gdf.groupby('elementary_sector').max().nsmallest(4, 'surface')"
   ]
  },
  {
   "cell_type": "markdown",
   "metadata": {},
   "source": [
    "##### Display largest and smallest elementary sectors"
   ]
  },
  {
   "cell_type": "code",
   "execution_count": 67,
   "metadata": {},
   "outputs": [
    {
     "data": {
      "text/plain": [
       "<matplotlib.axes._subplots.AxesSubplot at 0x11c252940>"
      ]
     },
     "execution_count": 67,
     "metadata": {},
     "output_type": "execute_result"
    },
    {
     "data": {
      "image/png": "[encoded data removed]",
      "text/plain": [
       "<matplotlib.figure.Figure at 0x11b0e9c88>"
      ]
     },
     "metadata": {},
     "output_type": "display_data"
    }
   ],
   "source": [
    "from shapely.geometry import Polygon\n",
    "world = gpd.read_file(gpd.datasets.get_path('naturalearth_lowres'))\n",
    "france = world[world.name == \"France\"].copy()\n",
    "france.geometry = france.geometry.intersection(Polygon([(-10,41),(-10,52),(10,52),(10,41)]))\n",
    "ax = france.plot(color='white', edgecolor='black', linewidth=1.0)\n",
    "smalls = list(gdf.groupby('elementary_sector').max().nsmallest(4, 'surface').index)\n",
    "bigs = list(gdf.groupby('elementary_sector').max().nlargest(4, 'surface').index)\n",
    "gdf.query('elementary_sector == @smalls').plot(ax=ax, color='green', alpha=0.6)\n",
    "gdf.query('elementary_sector == @bigs').plot(ax=ax, color='orange', alpha=0.6)"
   ]
  },
  {
   "cell_type": "markdown",
   "metadata": {},
   "source": [
    "#### <br> Flight Levels"
   ]
  },
  {
   "cell_type": "markdown",
   "metadata": {},
   "source": [
    "##### All flight levels used as level max in Metropolitan France"
   ]
  },
  {
   "cell_type": "code",
   "execution_count": 72,
   "metadata": {},
   "outputs": [
    {
     "data": {
      "text/plain": [
       "array([999, 345, 365, 195,  55, 255, 355, 245, 145, 385, 295, 285, 375,\n",
       "       305, 225, 315, 335, 265, 175, 250, 125])"
      ]
     },
     "execution_count": 72,
     "metadata": {},
     "output_type": "execute_result"
    }
   ],
   "source": [
    "gdf.level_max.unique()"
   ]
  },
  {
   "cell_type": "markdown",
   "metadata": {},
   "source": [
    "##### Flight levels used per ACC"
   ]
  },
  {
   "cell_type": "code",
   "execution_count": 87,
   "metadata": {},
   "outputs": [
    {
     "name": "stdout",
     "output_type": "stream",
     "text": [
      "LFBB :  [195, 265, 295, 345, 365, 385, 999]\n",
      "LFEE :  [145, 195, 225, 265, 285, 315, 345, 355, 365, 375, 385, 999]\n",
      "LFFF :  [125, 175, 195, 245, 250, 265, 285, 295, 305, 315, 345, 355, 385, 999]\n",
      "LFMM :  [175, 195, 245, 305, 335, 355, 375, 999]\n",
      "LFRR :  [55, 145, 195, 245, 255, 305, 345, 355, 365, 999]\n"
     ]
    }
   ],
   "source": [
    "for key, group in gdf.groupby('acc'):\n",
    "    print(key, ': ', sorted(group['level_max'].unique()))"
   ]
  },
  {
   "cell_type": "markdown",
   "metadata": {},
   "source": [
    "#### <br> Identify complex elementary sectors composed of most different volumes"
   ]
  },
  {
   "cell_type": "code",
   "execution_count": 88,
   "metadata": {},
   "outputs": [
    {
     "data": {
      "text/plain": [
       "WS    5\n",
       "AR    4\n",
       "UK    4\n",
       "Name: elementary_sector, dtype: int64"
      ]
     },
     "execution_count": 88,
     "metadata": {},
     "output_type": "execute_result"
    }
   ],
   "source": [
    "gdf['elementary_sector'].value_counts().nlargest(3)"
   ]
  },
  {
   "cell_type": "code",
   "execution_count": 89,
   "metadata": {},
   "outputs": [
    {
     "data": {
      "text/plain": [
       "<matplotlib.axes._subplots.AxesSubplot at 0x11e0d27f0>"
      ]
     },
     "execution_count": 89,
     "metadata": {},
     "output_type": "execute_result"
    },
    {
     "data": {
      "image/png": "[encoded data removed]",
      "text/plain": [
       "<matplotlib.figure.Figure at 0x11e0d19b0>"
      ]
     },
     "metadata": {},
     "output_type": "display_data"
    }
   ],
   "source": [
    "ax = france.plot(color='white', edgecolor='black', linewidth=1.0)\n",
    "complex = list(gdf['elementary_sector'].value_counts().nlargest(3).index)\n",
    "gdf.query('elementary_sector == @complex').plot(ax=ax, color='red', alpha=0.6)"
   ]
  },
  {
   "cell_type": "markdown",
   "metadata": {},
   "source": [
    "#### <br> Display airspace volumes, ACCs and sectors"
   ]
  },
  {
   "cell_type": "code",
   "execution_count": 90,
   "metadata": {},
   "outputs": [
    {
     "name": "stdout",
     "output_type": "stream",
     "text": [
      "48 volumes at FL200, 40 volumes at FL350\n"
     ]
    }
   ],
   "source": [
    "gdf_low = gdf.query('level_min <= 200 <= level_max')\n",
    "gdf_high = gdf.query('level_min <= 350 <= level_max')\n",
    "print('{} volumes at FL200, {} volumes at FL350'.format(gdf_low['volume'].count(),\n",
    "                                                        gdf_high['volume'].count()))"
   ]
  },
  {
   "cell_type": "markdown",
   "metadata": {},
   "source": [
    "##### Display all volumes at FL200"
   ]
  },
  {
   "cell_type": "code",
   "execution_count": 6,
   "metadata": {},
   "outputs": [
    {
     "data": {
      "text/plain": [
       "<matplotlib.axes._subplots.AxesSubplot at 0x11b1c0978>"
      ]
     },
     "execution_count": 6,
     "metadata": {},
     "output_type": "execute_result"
    },
    {
     "data": {
      "image/png": "[encoded data removed]",
      "text/plain": [
       "<matplotlib.figure.Figure at 0x11b1ae710>"
      ]
     },
     "metadata": {},
     "output_type": "display_data"
    }
   ],
   "source": [
    "from shapely.geometry import Polygon\n",
    "world = gpd.read_file(gpd.datasets.get_path('naturalearth_lowres'))\n",
    "france = world[world.name == \"France\"].copy()\n",
    "france.geometry = france.geometry.intersection(Polygon([(-10,41),(-10,52),(10,52),(10,41)]))\n",
    "ax = france.plot(color='white', edgecolor='black', linewidth=1.0)\n",
    "custom_colors = [np.random.random(3) for i in range(gdf_low['volume'].count())]\n",
    "gdf_low.plot(ax=ax, color=custom_colors, alpha=0.8)"
   ]
  },
  {
   "cell_type": "markdown",
   "metadata": {},
   "source": [
    "##### Display all volumes at FL350"
   ]
  },
  {
   "cell_type": "code",
   "execution_count": 16,
   "metadata": {},
   "outputs": [
    {
     "data": {
      "image/png": "[encoded data removed]",
      "text/plain": [
       "<matplotlib.figure.Figure at 0x11ba947f0>"
      ]
     },
     "metadata": {},
     "output_type": "display_data"
    }
   ],
   "source": [
    "%matplotlib inline\n",
    "from matplotlib import pyplot as plt\n",
    "ax = france.plot(color='white', edgecolor='black', linewidth=1.0)\n",
    "custom_colors = [np.random.random(3) for i in range(gdf_high['volume'].count())]\n",
    "gdf_high.plot(ax=ax, color=custom_colors, alpha=0.8)\n",
    "plt.savefig('fl350_volumes.svg', format=\"svg\")"
   ]
  },
  {
   "cell_type": "markdown",
   "metadata": {},
   "source": [
    "##### Display the ACCs at level FL350"
   ]
  },
  {
   "cell_type": "code",
   "execution_count": 9,
   "metadata": {},
   "outputs": [
    {
     "data": {
      "text/plain": [
       "<matplotlib.axes._subplots.AxesSubplot at 0x11b27c048>"
      ]
     },
     "execution_count": 9,
     "metadata": {},
     "output_type": "execute_result"
    },
    {
     "data": {
      "image/png": "[encoded data removed]",
      "text/plain": [
       "<matplotlib.figure.Figure at 0x11b2ac208>"
      ]
     },
     "metadata": {},
     "output_type": "display_data"
    }
   ],
   "source": [
    "pd.set_option('mode.chained_assignment', None)\n",
    "gdf_high['geometry'] = gdf_high.buffer(0.01)\n",
    "ax = france.plot(color='white', edgecolor='black', linewidth=1.0)\n",
    "custom_colors = [np.random.random(3) for i in range(5)]\n",
    "gdf_high.dissolve(by='acc').plot(ax=ax, color=custom_colors, alpha=0.8)"
   ]
  },
  {
   "cell_type": "markdown",
   "metadata": {},
   "source": [
    "##### Display elementary sectors' volumes of LFBB ACC at level FL190 (FIR Bordeaux)"
   ]
  },
  {
   "cell_type": "code",
   "execution_count": 10,
   "metadata": {},
   "outputs": [
    {
     "data": {
      "text/plain": [
       "<matplotlib.axes._subplots.AxesSubplot at 0x11b44edd8>"
      ]
     },
     "execution_count": 10,
     "metadata": {},
     "output_type": "execute_result"
    },
    {
     "data": {
      "image/png": "[encoded data removed]",
      "text/plain": [
       "<matplotlib.figure.Figure at 0x11b3af4a8>"
      ]
     },
     "metadata": {},
     "output_type": "display_data"
    }
   ],
   "source": [
    "gdf_vlow = gdf.query('level_min <= 190 <= level_max')\n",
    "ax = france.plot(color='white', edgecolor='black', linewidth=1.0)\n",
    "custom_colors = [np.random.random(3) for i in range(gdf_vlow['volume'].count())]\n",
    "gdf_vlow.query('acc == \"LFBB\"').dissolve(by='elementary_sector').plot(ax=ax, color=custom_colors, alpha=0.8)"
   ]
  },
  {
   "cell_type": "markdown",
   "metadata": {},
   "source": [
    "#### <br> Sectors' centroids and cities"
   ]
  },
  {
   "cell_type": "code",
   "execution_count": 100,
   "metadata": {},
   "outputs": [
    {
     "data": {
      "text/plain": [
       "<matplotlib.axes._subplots.AxesSubplot at 0x11e79d940>"
      ]
     },
     "execution_count": 100,
     "metadata": {},
     "output_type": "execute_result"
    },
    {
     "data": {
      "image/png": "[encoded data removed]",
      "text/plain": [
       "<matplotlib.figure.Figure at 0x11e8b4ac8>"
      ]
     },
     "metadata": {},
     "output_type": "display_data"
    }
   ],
   "source": [
    "ax = france.plot(color='white', edgecolor='black', linewidth=1.0)\n",
    "cities = gpd.read_file(gpd.datasets.get_path('naturalearth_cities'))\n",
    "fr_cities = cities.cx[-10:10, 41:52]\n",
    "gdf['geometry'].centroid.plot(ax=ax)\n",
    "fr_cities.plot(ax=ax, color='red')"
   ]
  },
  {
   "cell_type": "markdown",
   "metadata": {},
   "source": [
    "##### Test which volumes/sectors are above a given city (ex: Toulouse)"
   ]
  },
  {
   "cell_type": "code",
   "execution_count": 141,
   "metadata": {},
   "outputs": [
    {
     "data": {
      "text/html": [
       "<div>\n",
       "<style scoped>\n",
       "    .dataframe tbody tr th:only-of-type {\n",
       "        vertical-align: middle;\n",
       "    }\n",
       "\n",
       "    .dataframe tbody tr th {\n",
       "        vertical-align: top;\n",
       "    }\n",
       "\n",
       "    .dataframe thead th {\n",
       "        text-align: right;\n",
       "    }\n",
       "</style>\n",
       "<table border=\"1\" class=\"dataframe\">\n",
       "  <thead>\n",
       "    <tr style=\"text-align: right;\">\n",
       "      <th></th>\n",
       "      <th>volume</th>\n",
       "      <th>elementary_sector</th>\n",
       "      <th>acc</th>\n",
       "      <th>level_min</th>\n",
       "      <th>level_max</th>\n",
       "      <th>geometry</th>\n",
       "      <th>surface</th>\n",
       "      <th>centroids</th>\n",
       "      <th>above_toulouse</th>\n",
       "    </tr>\n",
       "  </thead>\n",
       "  <tbody>\n",
       "    <tr>\n",
       "      <th>30</th>\n",
       "      <td>TZ</td>\n",
       "      <td>TZ</td>\n",
       "      <td>LFBB</td>\n",
       "      <td>0</td>\n",
       "      <td>195</td>\n",
       "      <td>POLYGON ((0.239 45.206, 0.58 44.5, 1.271 44.5,...</td>\n",
       "      <td>6.449720</td>\n",
       "      <td>POINT (-0.1279949205688178 43.76232898351121)</td>\n",
       "      <td>True</td>\n",
       "    </tr>\n",
       "    <tr>\n",
       "      <th>12</th>\n",
       "      <td>N2</td>\n",
       "      <td>N2</td>\n",
       "      <td>LFBB</td>\n",
       "      <td>295</td>\n",
       "      <td>345</td>\n",
       "      <td>POLYGON ((0.647 43.492, 1.472 43.919, 1.697 42...</td>\n",
       "      <td>1.029352</td>\n",
       "      <td>POINT (1.194875090027859 43.13795924870804)</td>\n",
       "      <td>True</td>\n",
       "    </tr>\n",
       "    <tr>\n",
       "      <th>11</th>\n",
       "      <td>N1</td>\n",
       "      <td>N1</td>\n",
       "      <td>LFBB</td>\n",
       "      <td>195</td>\n",
       "      <td>295</td>\n",
       "      <td>POLYGON ((0.647 43.492, 1.472 43.919, 1.697 42...</td>\n",
       "      <td>1.029352</td>\n",
       "      <td>POINT (1.194875090027859 43.13795924870804)</td>\n",
       "      <td>True</td>\n",
       "    </tr>\n",
       "    <tr>\n",
       "      <th>14</th>\n",
       "      <td>N4</td>\n",
       "      <td>N4</td>\n",
       "      <td>LFBB</td>\n",
       "      <td>365</td>\n",
       "      <td>999</td>\n",
       "      <td>POLYGON ((0.647 43.492, 1.472 43.919, 1.697 42...</td>\n",
       "      <td>1.029352</td>\n",
       "      <td>POINT (1.194875090027859 43.13795924870804)</td>\n",
       "      <td>True</td>\n",
       "    </tr>\n",
       "    <tr>\n",
       "      <th>13</th>\n",
       "      <td>N3</td>\n",
       "      <td>N3</td>\n",
       "      <td>LFBB</td>\n",
       "      <td>345</td>\n",
       "      <td>365</td>\n",
       "      <td>POLYGON ((0.647 43.492, 1.472 43.919, 1.697 42...</td>\n",
       "      <td>1.029352</td>\n",
       "      <td>POINT (1.194875090027859 43.13795924870804)</td>\n",
       "      <td>True</td>\n",
       "    </tr>\n",
       "  </tbody>\n",
       "</table>\n",
       "</div>"
      ],
      "text/plain": [
       "   volume elementary_sector   acc  level_min  level_max  \\\n",
       "30     TZ                TZ  LFBB          0        195   \n",
       "12     N2                N2  LFBB        295        345   \n",
       "11     N1                N1  LFBB        195        295   \n",
       "14     N4                N4  LFBB        365        999   \n",
       "13     N3                N3  LFBB        345        365   \n",
       "\n",
       "                                             geometry   surface  \\\n",
       "30  POLYGON ((0.239 45.206, 0.58 44.5, 1.271 44.5,...  6.449720   \n",
       "12  POLYGON ((0.647 43.492, 1.472 43.919, 1.697 42...  1.029352   \n",
       "11  POLYGON ((0.647 43.492, 1.472 43.919, 1.697 42...  1.029352   \n",
       "14  POLYGON ((0.647 43.492, 1.472 43.919, 1.697 42...  1.029352   \n",
       "13  POLYGON ((0.647 43.492, 1.472 43.919, 1.697 42...  1.029352   \n",
       "\n",
       "                                        centroids  above_toulouse  \n",
       "30  POINT (-0.1279949205688178 43.76232898351121)            True  \n",
       "12    POINT (1.194875090027859 43.13795924870804)            True  \n",
       "11    POINT (1.194875090027859 43.13795924870804)            True  \n",
       "14    POINT (1.194875090027859 43.13795924870804)            True  \n",
       "13    POINT (1.194875090027859 43.13795924870804)            True  "
      ]
     },
     "execution_count": 141,
     "metadata": {},
     "output_type": "execute_result"
    }
   ],
   "source": [
    "from shapely.geometry import Point\n",
    "toulouse = Point(1.433, 43,60)\n",
    "gdf['above_toulouse'] = gdf['geometry'].map(lambda x: True if x.contains(toulouse) else False)\n",
    "gdf_a = gdf.query('above_toulouse == True')\n",
    "gdf_a"
   ]
  },
  {
   "cell_type": "code",
   "execution_count": 146,
   "metadata": {},
   "outputs": [
    {
     "data": {
      "text/plain": [
       "<matplotlib.axes._subplots.AxesSubplot at 0x11ede28d0>"
      ]
     },
     "execution_count": 146,
     "metadata": {},
     "output_type": "execute_result"
    },
    {
     "data": {
      "image/png": "[encoded data removed]",
      "text/plain": [
       "<matplotlib.figure.Figure at 0x11f0384a8>"
      ]
     },
     "metadata": {},
     "output_type": "display_data"
    }
   ],
   "source": [
    "ax = france.plot(color='white', edgecolor='black', linewidth=1.0)\n",
    "custom_colors = [np.random.random(3) for i in range(gdf_a['volume'].count())]\n",
    "gdf_a.query('above_toulouse == True').plot(ax=ax, color=custom_colors, alpha=0.3)\n",
    "df_t = pd.DataFrame({'geometry':[toulouse]})\n",
    "gdf_t = gpd.GeoDataFrame(df_t, geometry='geometry')\n",
    "gdf_t.plot(ax=ax, color='red')"
   ]
  }
 ],
 "metadata": {
  "kernelspec": {
   "display_name": "Python [default]",
   "language": "python",
   "name": "python3"
  },
  "language_info": {
   "codemirror_mode": {
    "name": "ipython",
    "version": 3
   },
   "file_extension": ".py",
   "mimetype": "text/x-python",
   "name": "python",
   "nbconvert_exporter": "python",
   "pygments_lexer": "ipython3",
   "version": "3.6.6"
  }
 },
 "nbformat": 4,
 "nbformat_minor": 2
}
